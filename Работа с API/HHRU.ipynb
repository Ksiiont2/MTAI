{
  "nbformat": 4,
  "nbformat_minor": 0,
  "metadata": {
    "colab": {
      "provenance": []
    },
    "kernelspec": {
      "name": "python3",
      "display_name": "Python 3"
    },
    "language_info": {
      "name": "python"
    }
  },
  "cells": [
    {
      "cell_type": "markdown",
      "source": [
        "Происходит загрузка следующих библиотек Python:\n",
        "\n",
        "*   pandas - для работы с табличными данными;\n",
        "\n",
        "*   requests - для выполнения HTTP-запросов к API;\n",
        "\n",
        "*   json - для обработки и парсинга получаемых данных в формате JSON.\n"
      ],
      "metadata": {
        "id": "5qvODMDhdee5"
      }
    },
    {
      "cell_type": "code",
      "execution_count": null,
      "metadata": {
        "id": "VtUnD-xk5l7G"
      },
      "outputs": [],
      "source": [
        "import pandas as pd\n",
        "import requests\n",
        "import json"
      ]
    },
    {
      "cell_type": "markdown",
      "source": [
        "Взаимодействие с источником данных реализуется через официальное API портала HH.ru, обеспечивающее получение структурированной информации о вакансиях."
      ],
      "metadata": {
        "id": "i1H6a2IZd-9X"
      }
    },
    {
      "cell_type": "code",
      "source": [
        "url = 'https://api.hh.ru/vacancies'\n",
        "params = {'text': 'оператор', 'per_page': '100', 'page': '1'}\n",
        "src = requests.get(url, params=params)\n",
        "data = src.json()"
      ],
      "metadata": {
        "id": "gWUYBf9-CiDA"
      },
      "execution_count": null,
      "outputs": []
    },
    {
      "cell_type": "markdown",
      "source": [
        "Для хранения и обработки собранной информации создается таблица данных с использованием библиотеки pandas."
      ],
      "metadata": {
        "id": "wgNZF20weK03"
      }
    },
    {
      "cell_type": "code",
      "source": [
        "names = ['name', 'experience', 'employment', 'created_at', 'selary', 'address', 'type', 'schedule', 'work_schedule_by_days', 'working_hours']\n",
        "df = pd.DataFrame(columns=names)"
      ],
      "metadata": {
        "id": "SdNfkLGPF3G2"
      },
      "execution_count": null,
      "outputs": []
    },
    {
      "cell_type": "markdown",
      "source": [
        "Создайте функцию sercher, которая в цикле обрабатывает данные о вакансиях. Для каждой вакансии функция должна извлекать следующие поля:\n",
        "\n",
        "*   наименование вакансии;\n",
        "\n",
        "*   требуемый опыт работы;\n",
        "\n",
        "*   тип занятости;\n",
        "\n",
        "*   дата создания объявления;\n",
        "\n",
        "*   заработная плата;\n",
        "\n",
        "*   адрес места работы;\n",
        "\n",
        "*   статус вакансии (открыта/закрыта);\n",
        "\n",
        "*   рабочий график (смена);\n",
        "\n",
        "*   количество рабочих часов.\n",
        "\n",
        "\n",
        "\n",
        "\n",
        "После сбора информации, функция должна записывать её в соответствующую таблицу."
      ],
      "metadata": {
        "id": "p88eXyReeTb_"
      }
    },
    {
      "cell_type": "code",
      "source": [
        "def sercher():\n",
        "    for i in range(data['per_page']-1):\n",
        "        val = data['items'][i]\n",
        "        name = val['name']\n",
        "        sel = (str(val['salary']['from']) + '-' + str(val['salary']['to']) + ' ' + str(val['salary']['currency'])) if val['salary'] != None else 'Не указано'\n",
        "        exp = val['experience']['name']\n",
        "        empl = val['employment']['name']\n",
        "        create = val['created_at'][:10] + ' ' + val['created_at'][10:19]\n",
        "        adr = val['address']['raw'] if val['address'] else 'Не указано'\n",
        "        ono = val['type']['name']\n",
        "        sch = val['schedule']['name']\n",
        "        wsbd = val['work_schedule_by_days'][0]['name'] if val['work_schedule_by_days'] else 'Не указано'\n",
        "        wh = val['working_hours'][0]['name'].replace('\\xa0', ' ') if val['working_hours'] else 'Не указано'\n",
        "        odata = [name, exp, empl, create, sel, adr, ono, sch, wsbd, wh]\n",
        "        df.loc[val['id']] = odata"
      ],
      "metadata": {
        "id": "4BOHo2OuGlbv"
      },
      "execution_count": null,
      "outputs": []
    },
    {
      "cell_type": "markdown",
      "source": [
        "Для получения данных со всех страниц используется функция sercher, которая осуществляет последовательный цикличный перебор.\n"
      ],
      "metadata": {
        "id": "RR8CV4jGfJRD"
      }
    },
    {
      "cell_type": "code",
      "source": [
        "for x in range(1, data['pages']):\n",
        "    params = {'text': 'оператор', 'per_page': '100', 'page': x}\n",
        "    print(params['page'])\n",
        "    src = requests.get(url, params=params)\n",
        "    data = src.json()\n",
        "    sercher()"
      ],
      "metadata": {
        "colab": {
          "base_uri": "https://localhost:8080/"
        },
        "id": "o8QiNsvjVNKL",
        "outputId": "65ec3234-5c88-4f73-da6b-4c9b2597ffd8"
      },
      "execution_count": null,
      "outputs": [
        {
          "output_type": "stream",
          "name": "stdout",
          "text": [
            "1\n",
            "2\n",
            "3\n",
            "4\n",
            "5\n",
            "6\n",
            "7\n",
            "8\n",
            "9\n",
            "10\n",
            "11\n",
            "12\n",
            "13\n",
            "14\n",
            "15\n",
            "16\n",
            "17\n",
            "18\n",
            "19\n"
          ]
        }
      ]
    },
    {
      "cell_type": "markdown",
      "source": [
        "готовый результат конвертируем в csv файл"
      ],
      "metadata": {
        "id": "HUHw92i_fWM5"
      }
    },
    {
      "cell_type": "code",
      "source": [
        "df.to_csv('Data_HHRu.csv', index=True)"
      ],
      "metadata": {
        "id": "BX_TB0mJRI9c"
      },
      "execution_count": null,
      "outputs": []
    }
  ]
}