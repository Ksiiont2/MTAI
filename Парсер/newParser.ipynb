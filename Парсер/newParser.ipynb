{
  "nbformat": 4,
  "nbformat_minor": 0,
  "metadata": {
    "colab": {
      "provenance": []
    },
    "kernelspec": {
      "name": "python3",
      "display_name": "Python 3"
    },
    "language_info": {
      "name": "python"
    }
  },
  "cells": [
    {
      "cell_type": "code",
      "execution_count": 193,
      "metadata": {
        "id": "wpiZCz6VFyjo"
      },
      "outputs": [],
      "source": [
        "import requests\n",
        "from bs4 import BeautifulSoup\n",
        "import pandas as pd"
      ]
    },
    {
      "cell_type": "code",
      "source": [
        "names = ['Дата публикации','Ссылка' ,\"Цена\" ,\"Адрес\" ,\"Год постройки\" ,\"Материал постройки\" ,\"Отопление\",'Кол-во комнат' ,\"Общая площадь\" ,\"Жилая площадь\" ,\"Площадь кухни\" ,\"Расположение квартиры\" ,\"Этаж\" ,\"Окна выходят\" ,\"Ремонт\" ,\"Раздельных санузлов\"]\n",
        "\n",
        "df = pd.DataFrame(columns=names)"
      ],
      "metadata": {
        "id": "zg1DdbQlF3hA"
      },
      "execution_count": 201,
      "outputs": []
    },
    {
      "cell_type": "code",
      "source": [
        "page = requests.get('https://vladis.ru/syktyvkar/kupit-kvartiru?offset=')\n",
        "page\n",
        "src = page.text\n",
        "soup = BeautifulSoup(src, 'lxml')\n",
        "div = soup.find('div', 'sc-fa1b8d85-2 dKriSD')\n",
        "div = div.find_all('div','sc-e0405ac0-0 cOTnmg')"
      ],
      "metadata": {
        "id": "X4hwUuv9GLHI"
      },
      "execution_count": 210,
      "outputs": []
    },
    {
      "cell_type": "markdown",
      "source": [
        "Алгоритм работы функции searcher()\n",
        "\n",
        "Функция searcher() предназначена для извлечения и структурирования данных о квартирах с веб-страниц. Её работа состоит из следующих этапов:\n",
        "\n",
        "1.  Предварительная обработка HTML: Исходный HTML-код форматируется для обеспечения корректного парсинга.\n",
        "\n",
        "2.  Поиск ключевых контейнеров: В структуре документа локализуются два элемента \"select\", которые содержат основную информацию о характеристиках квартиры.\n",
        "\n",
        "3.  Инициализация структуры данных: Создается словарь, который будет использоваться для временного хранения и категоризации извлеченных данных.\n",
        "\n",
        "4.  Извлечение данных: Происходит последовательный парсинг и сбор требуемых значений из найденных элементов.\n",
        "\n",
        "5.  Формирование результата: Подготовленные данные из словаря переносятся в массив, готовый для последующей передачи и интеграции в таблицу.\n",
        "\n",
        "\n",
        "\n",
        "\n",
        "\n",
        "\n",
        "\n",
        "\n"
      ],
      "metadata": {
        "id": "feoOUU4fIwfu"
      }
    },
    {
      "cell_type": "code",
      "source": [
        "def searcher(id, c, linkToHome):\n",
        "  count = c\n",
        "  iner_page = requests.get('https://vladis.ru/syktyvkar/kupit-kvartiru/'+str(id))\n",
        "  print(iner_page,' == ', count)\n",
        "  srci = iner_page.text\n",
        "  vnr = BeautifulSoup(srci, 'lxml')\n",
        "\n",
        "  cah = vnr.find(id='offer-card_about-house')\n",
        "  caa = vnr.find(id='offer-card_about_apartment')\n",
        "\n",
        "  slovar = {'Дата публикации': None,\n",
        "            'Ссылка': None,\n",
        "            'Цена': None,\n",
        "            'Адрес': None,\n",
        "            'Год постройки': None,\n",
        "            'Материал постройки': None,\n",
        "            'Отопление': None,\n",
        "            'Кол-во комнат': None,\n",
        "            'Общая площадь': None,\n",
        "            'Жилая площадь': None,\n",
        "            'Площадь кухни': None,\n",
        "            'Расположение квартиры': None,\n",
        "            'Этаж': None,\n",
        "            'Окна выходят': None,\n",
        "            'Ремонт': None,\n",
        "            'Раздельных санузлов': None,\n",
        "  }\n",
        "\n",
        "  okvart = caa.find('div', 'sc-ef189e20-2 glcvYz') #данные о квартире\n",
        "  for tab in okvart:\n",
        "    if tab.find('p','sc-ec3d9fa2-0 jPzElo').text in slovar:\n",
        "      slovar[tab.find('p','sc-ec3d9fa2-0 jPzElo').text] = tab.find('span', 'sc-7cc6aa8f-0 duICqo').text\n",
        "\n",
        "  ohous = cah.find('div', 'sc-ef189e20-2 glcvYz') #данные о доме\n",
        "  for tab in ohous:\n",
        "    if tab.find('p','sc-ec3d9fa2-0 jPzElo').text in slovar:\n",
        "      slovar[tab.find('p','sc-ec3d9fa2-0 jPzElo').text] = tab.find('span', 'sc-7cc6aa8f-0 duICqo').text\n",
        "\n",
        "  slovar['Дата публикации'] = vnr.find('div', 'sc-f7f5b7ea-2 kuneej').text\n",
        "  slovar['Цена'] = vnr.find('div', 'sc-e25f85f-1 frDpxM price-title').text.replace('\\xa0', '')\n",
        "  slovar['Адрес'] = vnr.find('div', 'sc-ac6b7eb0-1 hYEXQv').text.replace('\\xa0', '')\n",
        "  slovar['Кол-во комнат'] = ((vnr.find('h1', 'sc-ec3d9fa2-0 lcymZ').text).split())[1].replace(',','')\n",
        "  slovar['Ссылка'] = linkToHome\n",
        "  data = []\n",
        "  for x in slovar:\n",
        "    data.append(slovar.get(x))\n",
        "\n",
        "  df.loc[count] = data\n",
        "  count += 1\n",
        ""
      ],
      "metadata": {
        "id": "q6sZLBnjL0_F"
      },
      "execution_count": 202,
      "outputs": []
    },
    {
      "cell_type": "markdown",
      "source": [
        "Перед непосредственным извлечением данных осуществляется подготовительный этап:\n",
        "Инициализация функции **searcher()**: В качестве аргументов функции передаются:\n",
        "\n",
        "*   Идентификатор страницы (ID), однозначно определяющий обрабатываемый документ.\n",
        "*   Длина целевой таблицы, необходимая для корректной индексации новых записей.\n",
        "*   Прямая ссылка (URL) на обрабатываемую веб-страницу.\n",
        "\n",
        "\n"
      ],
      "metadata": {
        "id": "GiXOT-jkjWev"
      }
    },
    {
      "cell_type": "code",
      "source": [
        "def finder():\n",
        "  for link in div:\n",
        "    id = link.find('a', 'sc-e0405ac0-19 cMEHDC').get('href')[-7:]\n",
        "    LTH = link.find('a', 'sc-e0405ac0-19 cMEHDC').get('href')\n",
        "    searcher(id, len(df), LTH)\n"
      ],
      "metadata": {
        "id": "AcMa6xSiHs-c"
      },
      "execution_count": 203,
      "outputs": []
    },
    {
      "cell_type": "markdown",
      "source": [
        "Для полного охвата данных осуществляется циклический обход всех целевых страниц с помощью функции **finder()**, которая последовательно применяет алгоритм парсинга к каждому элементу.\n"
      ],
      "metadata": {
        "id": "5mldg17Ujgrm"
      }
    },
    {
      "cell_type": "code",
      "source": [
        "for i in range(0, 11):\n",
        "  print(requests.get(\n",
        "        'https://vladis.ru/syktyvkar/kupit-kvartiru?offset='+str(i*40)\n",
        "  ))\n",
        "  finder()"
      ],
      "metadata": {
        "id": "DshYzxXojWv3"
      },
      "execution_count": null,
      "outputs": []
    },
    {
      "cell_type": "markdown",
      "source": [
        "Конечный результат превращаем в csv файл"
      ],
      "metadata": {
        "id": "O41idlzHsMsK"
      }
    },
    {
      "cell_type": "code",
      "source": [
        "df"
      ],
      "metadata": {
        "id": "R1_NNDKmjlU3"
      },
      "execution_count": null,
      "outputs": []
    },
    {
      "cell_type": "code",
      "source": [
        "df.to_csv('house.csv', index=False)"
      ],
      "metadata": {
        "id": "Dbz0lVkKsNir"
      },
      "execution_count": 209,
      "outputs": []
    }
  ]
}